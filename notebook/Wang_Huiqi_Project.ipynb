{
  "cells": [
    {
      "cell_type": "markdown",
      "metadata": {
        "id": "ea6fab73"
      },
      "source": [
        "##### Name: Huiqi Wang\n",
        "##### Github Username: wang2bbq\n",
        "##### USC ID: 6613859213"
      ],
      "id": "ea6fab73"
    },
    {
      "cell_type": "code",
      "execution_count": 1,
      "metadata": {
        "colab": {
          "base_uri": "https://localhost:8080/"
        },
        "id": "VHvqaAiyFq38",
        "outputId": "a5b42bdd-afd5-45e1-af81-9deafcbf9736"
      },
      "outputs": [
        {
          "output_type": "stream",
          "name": "stdout",
          "text": [
            "Mounted at /content/gdrive\n"
          ]
        }
      ],
      "source": [
        "from google.colab import drive\n",
        "drive.mount('/content/gdrive')"
      ],
      "id": "VHvqaAiyFq38"
    },
    {
      "cell_type": "markdown",
      "metadata": {
        "id": "879825b0"
      },
      "source": [
        "# 1. Transfer Learning for Image Classification"
      ],
      "id": "879825b0"
    },
    {
      "cell_type": "markdown",
      "metadata": {
        "id": "2ba2e6a0"
      },
      "source": [
        "## a.b. Data Exploration and Pre-processing"
      ],
      "id": "2ba2e6a0"
    },
    {
      "cell_type": "markdown",
      "metadata": {
        "id": "8ddb6f00"
      },
      "source": [
        "### i. Encode your classes using one-hot encoding and Classes.xlsx"
      ],
      "id": "8ddb6f00"
    },
    {
      "cell_type": "code",
      "execution_count": 2,
      "metadata": {
        "id": "H-epipSfhlYM"
      },
      "outputs": [],
      "source": [
        "import re\n",
        "import cv2\n",
        "import numpy as np\n",
        "import tensorflow as tf\n",
        "from tensorflow import keras\n",
        "from tensorflow.keras import layers\n",
        "import matplotlib.pyplot as plt\n",
        "from tensorflow.keras.utils import to_categorical\n",
        "from sklearn.metrics import classification_report\n",
        "import os\n",
        "import shutil\n",
        "import math\n",
        "from sklearn.model_selection import train_test_split"
      ],
      "id": "H-epipSfhlYM"
    },
    {
      "cell_type": "code",
      "execution_count": 3,
      "metadata": {
        "id": "72270799"
      },
      "outputs": [],
      "source": [
        "def separate_classes(f, root):\n",
        "    if re.search(\"^Crested\", f):\n",
        "    \t  cv2.imwrite(root+'class_0/'+'0_'+f, resized)\n",
        "    elif re.search(\"^Bobolink\",f):\n",
        "    \t  cv2.imwrite(root+'class_1/'+'1_'+f, resized)\n",
        "    elif re.search(\"^Lazuli\", f):\n",
        "        cv2.imwrite(root+'class_2/'+'2_'+f, resized)\n",
        "    elif re.search(\"^Brandt\", f):\n",
        "        cv2.imwrite(root+'class_3/'+'3_'+f, resized)\n",
        "    elif re.search(\"^Olive\", f):\n",
        "        cv2.imwrite(root+'class_4/'+'4_'+f, resized)\n",
        "    elif re.search(\"^Scissor\", f):\n",
        "        cv2.imwrite(root+'class_5/'+'5_'+f, resized)\n",
        "    elif re.search(\"^Anna\", f):\n",
        "        cv2.imwrite(root+'class_6/'+'6_'+f, resized)\n",
        "    elif re.search(\"^Pomarine\", f):\n",
        "        cv2.imwrite(root+'class_7/'+'7_'+f, resized)\n",
        "    elif re.search(\"^Dark\", f):\n",
        "        cv2.imwrite(root+'class_8/'+'8_'+f, resized)\n",
        "    elif re.search(\"^Pied\", f):\n",
        "        cv2.imwrite(root+'class_9/'+'9_'+f, resized)\n",
        "    elif re.search(\"^Ringed\", f):\n",
        "        cv2.imwrite(root+'class_10/'+'10_'+f, resized)\n",
        "    elif re.search(\"^Pacific\", f):\n",
        "        cv2.imwrite(root+'class_11/'+'11_'+f, resized)\n",
        "    elif re.search(\"^Ovenbird\", f):\n",
        "        cv2.imwrite(root+'class_12/'+'12_'+f, resized)\n",
        "    elif re.search(\"^American\", f):\n",
        "        cv2.imwrite(root+'class_13/'+'13_'+f, resized)\n",
        "    elif re.search(\"^Savannah\", f):\n",
        "        cv2.imwrite(root+'class_14/'+'14_'+f, resized)\n",
        "    elif re.search(\"^Bank\", f):\n",
        "        cv2.imwrite(root+'class_15/'+'15_'+f, resized)\n",
        "    elif re.search(\"^Artic\", f):\n",
        "        cv2.imwrite(root+'class_16/'+'16_'+f, resized)\n",
        "    elif re.search(\"^Brown\", f):\n",
        "        cv2.imwrite(root+'class_17/'+'17_'+f, resized)\n",
        "    elif re.search(\"^White\", f):\n",
        "        cv2.imwrite(root+'class_18/'+'18_'+f, resized)\n",
        "    elif re.search(\"^Kentucky\", f):\n",
        "        cv2.imwrite(root+'class_19/'+'19_'+f, resized)"
      ],
      "id": "72270799"
    },
    {
      "cell_type": "markdown",
      "metadata": {
        "id": "6789a351"
      },
      "source": [
        "### ii. Randomly select training set, validation set, test set"
      ],
      "id": "6789a351"
    },
    {
      "cell_type": "code",
      "execution_count": 4,
      "metadata": {
        "id": "00ab497e"
      },
      "outputs": [],
      "source": [
        "\n",
        "#path = '../data/images'\n",
        "path = '/content/gdrive/MyDrive/data/images'\n",
        "folders = os.listdir(path)\n",
        "for i in range(len(folders)):\n",
        "    if folders[i] != '.DS_Store':\n",
        "        #folder_path = '../data/images/' + folders[i]\n",
        "        folder_path = '/content/gdrive/MyDrive/data/images/' + folders[i]\n",
        "        file_list_per_folder = os.listdir(folder_path)\n",
        "        n = len(file_list_per_folder)\n",
        "        n_train = math.ceil(0.7*n)\n",
        "        n_vali = math.ceil(0.15*n)\n",
        "        n_test = n - n_train - n_vali\n",
        "        train_set, remain_set = train_test_split(file_list_per_folder, train_size=n_train, random_state=1)\n",
        "        vali_set, test_set = train_test_split(remain_set, train_size=n_vali, random_state=1)\n",
        "        for file in train_set:\n",
        "            old_path = folder_path + '/' + file\n",
        "            #new_path_train = '../data/training/'+file\n",
        "            new_path_train = '/content/gdrive/MyDrive/data/training/'+file\n",
        "            # Copy src to dst. (cp src dst)\n",
        "            shutil.copy(old_path, new_path_train)\n",
        "        for file in vali_set:\n",
        "            old_path = folder_path + '/' + file\n",
        "            #new_path_vali = '../data/validation/'+file\n",
        "            new_path_vali = '/content/gdrive/MyDrive/data/validation/'+file\n",
        "            shutil.copy(old_path, new_path_vali)\n",
        "        for file in test_set:\n",
        "            old_path = folder_path + '/' + file\n",
        "            #new_path_test = '../data/test/'+file\n",
        "            new_path_test = '/content/gdrive/MyDrive/data/test/'+file\n",
        "            shutil.copy(old_path, new_path_test)\n"
      ],
      "id": "00ab497e"
    },
    {
      "cell_type": "markdown",
      "metadata": {
        "id": "6320e8d8"
      },
      "source": [
        "### iii. Zero-pad or resize the images in your dataset"
      ],
      "id": "6320e8d8"
    },
    {
      "cell_type": "code",
      "execution_count": 5,
      "metadata": {
        "id": "995ca14e"
      },
      "outputs": [],
      "source": [
        "# OpenCV\n",
        "#old_path1 = '../data/training'\n",
        "old_path1 = '/content/gdrive/MyDrive/data/training'\n",
        "#old_path2 = '../data/validation'\n",
        "old_path2 = '/content/gdrive/MyDrive/data/validation'\n",
        "#old_path3 = '../data/test'\n",
        "old_path3 = '/content/gdrive/MyDrive/data/test'\n",
        "files1 = os.listdir(old_path1)\n",
        "files2 = os.listdir(old_path2)\n",
        "files3 = os.listdir(old_path3)\n",
        "width = 224\n",
        "height = 224\n",
        "dim = (width, height)\n",
        "for file in files1:\n",
        "    img = cv2.imread(old_path1+'/'+file)\n",
        "    resized = cv2.resize(img, dim, interpolation = cv2.INTER_LINEAR)\n",
        "    #resized_path = '../data/training_resize/'+file\n",
        "    resized_path = '/content/gdrive/MyDrive/data/training_resize/'\n",
        "    separate_classes(file, resized_path)\n",
        "for file in files2:\n",
        "    img = cv2.imread(old_path2+'/'+file)\n",
        "    resized = cv2.resize(img, dim, interpolation = cv2.INTER_LINEAR)\n",
        "    #resized_path = '../data/validation_resize/'+file\n",
        "    resized_path = '/content/gdrive/MyDrive/data/validation_resize/'\n",
        "    separate_classes(file, resized_path)\n",
        "for file in files3:\n",
        "    img = cv2.imread(old_path3+'/'+file)\n",
        "    resized = cv2.resize(img, dim, interpolation = cv2.INTER_LINEAR)\n",
        "    #resized_path = '../data/test_resize/'+file\n",
        "    resized_path = '/content/gdrive/MyDrive/data/test_resize/'\n",
        "    separate_classes(file, resized_path)"
      ],
      "id": "995ca14e"
    },
    {
      "cell_type": "markdown",
      "metadata": {
        "id": "a1c38806"
      },
      "source": [
        "## c. Transfer Learning"
      ],
      "id": "a1c38806"
    },
    {
      "cell_type": "markdown",
      "metadata": {
        "id": "70a48802"
      },
      "source": [
        "### i. ii. To perform empirical regularization, crop, randomly zoo, rotate, flip, contrast, and translate images in your training set for image augmentation. You can use various tools to do this, including OpenCV"
      ],
      "id": "70a48802"
    },
    {
      "cell_type": "code",
      "execution_count": 39,
      "metadata": {
        "colab": {
          "base_uri": "https://localhost:8080/"
        },
        "id": "Hi_yOAI3FaCM",
        "outputId": "d628b39a-0d0e-4e60-c579-c82d0768b759"
      },
      "outputs": [
        {
          "output_type": "stream",
          "name": "stdout",
          "text": [
            "Found 1067 files belonging to 20 classes.\n",
            "Found 324 files belonging to 20 classes.\n",
            "Found 318 files belonging to 20 classes.\n"
          ]
        }
      ],
      "source": [
        "train_ds = tf.keras.utils.image_dataset_from_directory('/content/gdrive/MyDrive/data/training_resize',\n",
        "                            labels='inferred',\n",
        "                            label_mode='categorical',\n",
        "                            image_size=(224,224),\n",
        "                            seed=1337,\n",
        "                            shuffle=True,\n",
        "                            batch_size=5 # update!\n",
        ")\n",
        "validation_ds = tf.keras.utils.image_dataset_from_directory('/content/gdrive/MyDrive/data/validation_resize',\n",
        "                            labels='inferred',\n",
        "                            label_mode='categorical',\n",
        "                            image_size=(224,224),\n",
        "                            seed=1337,\n",
        "                            shuffle=False,\n",
        "                            batch_size=5 #update!\n",
        ")\n",
        "test_ds = tf.keras.utils.image_dataset_from_directory('/content/gdrive/MyDrive/data/test_resize',\n",
        "                            labels='inferred',\n",
        "                            label_mode='categorical',\n",
        "                            image_size=(224,224),\n",
        "                            seed=1337,\n",
        "                            shuffle=False,\n",
        "                            batch_size=5 #update!\n",
        ")"
      ],
      "id": "Hi_yOAI3FaCM"
    },
    {
      "cell_type": "code",
      "execution_count": 40,
      "metadata": {
        "id": "7b6bc66c"
      },
      "outputs": [],
      "source": [
        "data_augmentation = tf.keras.Sequential([\n",
        "    layers.RandomCrop(224,224),\n",
        "    layers.RandomZoom(0.1, 0.1),\n",
        "    layers.RandomRotation(0.1),\n",
        "    layers.RandomFlip(mode=\"horizontal\"),\n",
        "    layers.RandomContrast(0.1),\n",
        "    layers.RandomTranslation((-0.1, 0.1),(-0.1, 0.1)),\n",
        "])\n",
        "tf.get_logger().setLevel('ERROR')\n",
        "# Apply 'data_augmentation' to the training images\n",
        "train_ds = train_ds.map(\n",
        "\tlambda img, label: (data_augmentation(img), label),\n",
        "\tnum_parallel_calls=tf.data.AUTOTUNE,\n",
        "\t)\n"
      ],
      "id": "7b6bc66c"
    },
    {
      "cell_type": "code",
      "execution_count": 41,
      "metadata": {
        "id": "dwLwfZ_6hCeh"
      },
      "outputs": [],
      "source": [
        "# Prefetching samples in GPU memory helps maximize GPU utilization\n",
        "train_ds = train_ds.prefetch(tf.data.AUTOTUNE)\n",
        "validation_ds = validation_ds.prefetch(tf.data.AUTOTUNE)"
      ],
      "id": "dwLwfZ_6hCeh"
    },
    {
      "cell_type": "markdown",
      "metadata": {
        "id": "hZa7eIWSp9BP"
      },
      "source": [
        "### iii. Use ReLU activation functions in the last layer and a softmax layer, along with batch normalization and a dropout rate of 20% as well as ADAM optimizer. Use multinomial cross entropy loss. You can try any batch size, but a batch size of 5 seems reasonable"
      ],
      "id": "hZa7eIWSp9BP"
    },
    {
      "cell_type": "code",
      "execution_count": 42,
      "metadata": {
        "colab": {
          "base_uri": "https://localhost:8080/"
        },
        "id": "Wh16TaRFmJ_h",
        "outputId": "005c89fb-cc0b-49fb-8aee-fce7d7707501"
      },
      "outputs": [
        {
          "output_type": "stream",
          "name": "stdout",
          "text": [
            "Model: \"model_11\"\n",
            "_________________________________________________________________\n",
            " Layer (type)                Output Shape              Param #   \n",
            "=================================================================\n",
            " input_24 (InputLayer)       [(None, 224, 224, 3)]     0         \n",
            "                                                                 \n",
            " efficientnetb0 (Functional)  (None, 7, 7, 1280)       4049571   \n",
            "                                                                 \n",
            " global_average_pooling2d_11  (None, 1280)             0         \n",
            "  (GlobalAveragePooling2D)                                       \n",
            "                                                                 \n",
            " batch_normalization_11 (Bat  (None, 1280)             5120      \n",
            " chNormalization)                                                \n",
            "                                                                 \n",
            " dropout_11 (Dropout)        (None, 1280)              0         \n",
            "                                                                 \n",
            " dense_11 (Dense)            (None, 20)                25620     \n",
            "                                                                 \n",
            " softmax_11 (Softmax)        (None, 20)                0         \n",
            "                                                                 \n",
            "=================================================================\n",
            "Total params: 4,080,311\n",
            "Trainable params: 28,180\n",
            "Non-trainable params: 4,052,131\n",
            "_________________________________________________________________\n"
          ]
        }
      ],
      "source": [
        "# Instantiate a base model(EfficientNetB0) with pre-trained weights\n",
        "base_model_efficientnetb0 = keras.applications.efficientnet.EfficientNetB0(\n",
        "    include_top=False, # Do not include the ImageNet classifier at the top\n",
        "    weights='imagenet', # Load weights pre-trained on ImageNet\n",
        "    input_shape=(224, 224, 3)\n",
        ")\n",
        "# Freeze the base model\n",
        "base_model_efficientnetb0.trainable = False\n",
        "# Create new model on top\n",
        "inputs1 = keras.Input(shape=(224, 224, 3))\n",
        "#x = layers.Rescaling(1./255)(inputs) # delete!\n",
        "x1 = base_model_efficientnetb0(inputs1, training=False)\n",
        "x1 = keras.layers.GlobalAveragePooling2D()(x1)\n",
        "x1 = layers.BatchNormalization()(x1) # before relu\n",
        "x1 = layers.Dropout(0.2)(x1)\n",
        "x1 = layers.Dense(20, activation='relu')(x1)\n",
        "outputs1 = tf.keras.layers.Softmax()(x1)\n",
        "model1 = keras.Model(inputs1, outputs1)\n",
        "model1.summary()"
      ],
      "id": "Wh16TaRFmJ_h"
    },
    {
      "cell_type": "code",
      "execution_count": 23,
      "metadata": {
        "colab": {
          "base_uri": "https://localhost:8080/"
        },
        "id": "9Qnli9Pmejv7",
        "outputId": "1ff92ce8-f38a-4c18-8424-134e2648ddbf"
      },
      "outputs": [
        {
          "output_type": "stream",
          "name": "stdout",
          "text": [
            "Model: \"model_6\"\n",
            "_________________________________________________________________\n",
            " Layer (type)                Output Shape              Param #   \n",
            "=================================================================\n",
            " input_14 (InputLayer)       [(None, 224, 224, 3)]     0         \n",
            "                                                                 \n",
            " tf.__operators__.getitem_4   (None, 224, 224, 3)      0         \n",
            " (SlicingOpLambda)                                               \n",
            "                                                                 \n",
            " tf.nn.bias_add_4 (TFOpLambd  (None, 224, 224, 3)      0         \n",
            " a)                                                              \n",
            "                                                                 \n",
            " vgg16 (Functional)          (None, 7, 7, 512)         14714688  \n",
            "                                                                 \n",
            " global_average_pooling2d_6   (None, 512)              0         \n",
            " (GlobalAveragePooling2D)                                        \n",
            "                                                                 \n",
            " batch_normalization_6 (Batc  (None, 512)              2048      \n",
            " hNormalization)                                                 \n",
            "                                                                 \n",
            " dropout_6 (Dropout)         (None, 512)               0         \n",
            "                                                                 \n",
            " dense_6 (Dense)             (None, 20)                10260     \n",
            "                                                                 \n",
            " softmax_6 (Softmax)         (None, 20)                0         \n",
            "                                                                 \n",
            "=================================================================\n",
            "Total params: 14,726,996\n",
            "Trainable params: 11,284\n",
            "Non-trainable params: 14,715,712\n",
            "_________________________________________________________________\n"
          ]
        }
      ],
      "source": [
        "# Instantiate a base model(VGG16) with pre-trained weights\n",
        "base_model_vgg16 = tf.keras.applications.VGG16(\n",
        "\tinclude_top = False,\n",
        "\tweights = 'imagenet',\n",
        "\tinput_shape = (224,224,3),\n",
        "\t)\n",
        "# Freeze the base model\n",
        "base_model_vgg16.trainable = False\n",
        "# Create new model on top\n",
        "inputs2 = keras.Input(shape=(224, 224, 3))\n",
        "x2 = tf.keras.applications.vgg16.preprocess_input(inputs2)\n",
        "x2 = base_model_vgg16(x2, training=False)\n",
        "x2 = keras.layers.GlobalAveragePooling2D()(x2)\n",
        "x2 = layers.BatchNormalization()(x2) # before relu\n",
        "x2 = layers.Dropout(0.2)(x2)\n",
        "x2 = layers.Dense(20, activation='relu')(x2)\n",
        "outputs2 = tf.keras.layers.Softmax()(x2)\n",
        "model2 = keras.Model(inputs2, outputs2)\n",
        "model2.summary()"
      ],
      "id": "9Qnli9Pmejv7"
    },
    {
      "cell_type": "markdown",
      "metadata": {
        "id": "U3BEhaUCqjRm"
      },
      "source": [
        "### iv. Train the networks (EfficientNetB0 and VGG16) for at least 50 epochs(preferably 100 epochs) and perform early stopping using the validation set. Keep the network parameters that have the lowest validation error. Plot the training and validation errors vs. epochs"
      ],
      "id": "U3BEhaUCqjRm"
    },
    {
      "cell_type": "code",
      "execution_count": 43,
      "metadata": {
        "colab": {
          "base_uri": "https://localhost:8080/"
        },
        "id": "Vk44Kec9rGi_",
        "outputId": "537afa2b-c18d-4cca-aaba-aa12c30f379a"
      },
      "outputs": [
        {
          "output_type": "stream",
          "name": "stdout",
          "text": [
            "Epoch 1/100\n",
            "214/214 [==============================] - 11s 25ms/step - loss: 2.4622 - categorical_accuracy: 0.6214 - val_loss: 2.2860 - val_categorical_accuracy: 0.8086\n",
            "Epoch 2/100\n",
            "214/214 [==============================] - 4s 19ms/step - loss: 2.3072 - categorical_accuracy: 0.7741 - val_loss: 2.2483 - val_categorical_accuracy: 0.8333\n",
            "Epoch 3/100\n",
            "214/214 [==============================] - 4s 18ms/step - loss: 2.2667 - categorical_accuracy: 0.8163 - val_loss: 2.2363 - val_categorical_accuracy: 0.8426\n",
            "Epoch 4/100\n",
            "214/214 [==============================] - 4s 18ms/step - loss: 2.2614 - categorical_accuracy: 0.8172 - val_loss: 2.2287 - val_categorical_accuracy: 0.8457\n",
            "Epoch 5/100\n",
            "214/214 [==============================] - 4s 18ms/step - loss: 2.2434 - categorical_accuracy: 0.8332 - val_loss: 2.2078 - val_categorical_accuracy: 0.8704\n",
            "Epoch 6/100\n",
            "214/214 [==============================] - 4s 19ms/step - loss: 2.2342 - categorical_accuracy: 0.8463 - val_loss: 2.1959 - val_categorical_accuracy: 0.8827\n",
            "Epoch 7/100\n",
            "214/214 [==============================] - 4s 18ms/step - loss: 2.2034 - categorical_accuracy: 0.8754 - val_loss: 2.1868 - val_categorical_accuracy: 0.8951\n",
            "Epoch 8/100\n",
            "214/214 [==============================] - 4s 18ms/step - loss: 2.2165 - categorical_accuracy: 0.8632 - val_loss: 2.1875 - val_categorical_accuracy: 0.8889\n",
            "Epoch 9/100\n",
            "214/214 [==============================] - 4s 18ms/step - loss: 2.2083 - categorical_accuracy: 0.8679 - val_loss: 2.1833 - val_categorical_accuracy: 0.8981\n",
            "Epoch 10/100\n",
            "214/214 [==============================] - 4s 18ms/step - loss: 2.2083 - categorical_accuracy: 0.8707 - val_loss: 2.1865 - val_categorical_accuracy: 0.8920\n",
            "Epoch 11/100\n",
            "214/214 [==============================] - 4s 18ms/step - loss: 2.1930 - categorical_accuracy: 0.8857 - val_loss: 2.1890 - val_categorical_accuracy: 0.8889\n",
            "Epoch 12/100\n",
            "214/214 [==============================] - 4s 18ms/step - loss: 2.1932 - categorical_accuracy: 0.8857 - val_loss: 2.1846 - val_categorical_accuracy: 0.8920\n",
            "Epoch 13/100\n",
            "214/214 [==============================] - 4s 18ms/step - loss: 2.1902 - categorical_accuracy: 0.8894 - val_loss: 2.1814 - val_categorical_accuracy: 0.8981\n",
            "Epoch 14/100\n",
            "214/214 [==============================] - 4s 19ms/step - loss: 2.1962 - categorical_accuracy: 0.8810 - val_loss: 2.1684 - val_categorical_accuracy: 0.9105\n",
            "Epoch 15/100\n",
            "214/214 [==============================] - 4s 18ms/step - loss: 2.1872 - categorical_accuracy: 0.8922 - val_loss: 2.1834 - val_categorical_accuracy: 0.8951\n",
            "Epoch 16/100\n",
            "214/214 [==============================] - 4s 18ms/step - loss: 2.1863 - categorical_accuracy: 0.8913 - val_loss: 2.1871 - val_categorical_accuracy: 0.8920\n",
            "Epoch 17/100\n",
            "214/214 [==============================] - 4s 18ms/step - loss: 2.1979 - categorical_accuracy: 0.8819 - val_loss: 2.1719 - val_categorical_accuracy: 0.9074\n",
            "Epoch 18/100\n",
            "214/214 [==============================] - 4s 18ms/step - loss: 2.1854 - categorical_accuracy: 0.8941 - val_loss: 2.1932 - val_categorical_accuracy: 0.8858\n",
            "Epoch 19/100\n",
            "214/214 [==============================] - 4s 18ms/step - loss: 2.1864 - categorical_accuracy: 0.8922 - val_loss: 2.1789 - val_categorical_accuracy: 0.8981\n",
            "Epoch 20/100\n",
            "214/214 [==============================] - 4s 18ms/step - loss: 2.1835 - categorical_accuracy: 0.8950 - val_loss: 2.1841 - val_categorical_accuracy: 0.8951\n",
            "Epoch 21/100\n",
            "214/214 [==============================] - 4s 18ms/step - loss: 2.1942 - categorical_accuracy: 0.8857 - val_loss: 2.1783 - val_categorical_accuracy: 0.8981\n",
            "Epoch 22/100\n",
            "214/214 [==============================] - 4s 18ms/step - loss: 2.1985 - categorical_accuracy: 0.8791 - val_loss: 2.1791 - val_categorical_accuracy: 0.8981\n",
            "Epoch 23/100\n",
            "214/214 [==============================] - 4s 18ms/step - loss: 2.1901 - categorical_accuracy: 0.8894 - val_loss: 2.1829 - val_categorical_accuracy: 0.8951\n",
            "Epoch 24/100\n",
            "214/214 [==============================] - 4s 19ms/step - loss: 2.1960 - categorical_accuracy: 0.8828 - val_loss: 2.1663 - val_categorical_accuracy: 0.9136\n",
            "Epoch 25/100\n",
            "214/214 [==============================] - 4s 18ms/step - loss: 2.1819 - categorical_accuracy: 0.8960 - val_loss: 2.1741 - val_categorical_accuracy: 0.9043\n",
            "Epoch 26/100\n",
            "214/214 [==============================] - 4s 19ms/step - loss: 2.1798 - categorical_accuracy: 0.8978 - val_loss: 2.1733 - val_categorical_accuracy: 0.9074\n",
            "Epoch 27/100\n",
            "214/214 [==============================] - 4s 18ms/step - loss: 2.1862 - categorical_accuracy: 0.8922 - val_loss: 2.1708 - val_categorical_accuracy: 0.9074\n",
            "Epoch 28/100\n",
            "214/214 [==============================] - 4s 18ms/step - loss: 2.1895 - categorical_accuracy: 0.8885 - val_loss: 2.1941 - val_categorical_accuracy: 0.8827\n",
            "Epoch 29/100\n",
            "214/214 [==============================] - 4s 18ms/step - loss: 2.1791 - categorical_accuracy: 0.8997 - val_loss: 2.1759 - val_categorical_accuracy: 0.9012\n",
            "Epoch 30/100\n",
            "214/214 [==============================] - 4s 18ms/step - loss: 2.1745 - categorical_accuracy: 0.9035 - val_loss: 2.1691 - val_categorical_accuracy: 0.9105\n",
            "Epoch 31/100\n",
            "214/214 [==============================] - 4s 18ms/step - loss: 2.1713 - categorical_accuracy: 0.9072 - val_loss: 2.1642 - val_categorical_accuracy: 0.9136\n",
            "Epoch 32/100\n",
            "214/214 [==============================] - 4s 18ms/step - loss: 2.1857 - categorical_accuracy: 0.8941 - val_loss: 2.1681 - val_categorical_accuracy: 0.9105\n",
            "Epoch 33/100\n",
            "214/214 [==============================] - 4s 18ms/step - loss: 2.1825 - categorical_accuracy: 0.8941 - val_loss: 2.1649 - val_categorical_accuracy: 0.9136\n",
            "Epoch 34/100\n",
            "214/214 [==============================] - 4s 18ms/step - loss: 2.1714 - categorical_accuracy: 0.9063 - val_loss: 2.1629 - val_categorical_accuracy: 0.9167\n",
            "Epoch 35/100\n",
            "214/214 [==============================] - 4s 18ms/step - loss: 2.1740 - categorical_accuracy: 0.9035 - val_loss: 2.1584 - val_categorical_accuracy: 0.9198\n",
            "Epoch 36/100\n",
            "214/214 [==============================] - 4s 18ms/step - loss: 2.1870 - categorical_accuracy: 0.8903 - val_loss: 2.1650 - val_categorical_accuracy: 0.9136\n",
            "Epoch 37/100\n",
            "214/214 [==============================] - 4s 18ms/step - loss: 2.1846 - categorical_accuracy: 0.8922 - val_loss: 2.1720 - val_categorical_accuracy: 0.9074\n",
            "Epoch 38/100\n",
            "214/214 [==============================] - 4s 18ms/step - loss: 2.1753 - categorical_accuracy: 0.9016 - val_loss: 2.1610 - val_categorical_accuracy: 0.9198\n",
            "Epoch 39/100\n",
            "214/214 [==============================] - 4s 18ms/step - loss: 2.1760 - categorical_accuracy: 0.9016 - val_loss: 2.1636 - val_categorical_accuracy: 0.9136\n",
            "Epoch 40/100\n",
            "214/214 [==============================] - 4s 18ms/step - loss: 2.1769 - categorical_accuracy: 0.9025 - val_loss: 2.1656 - val_categorical_accuracy: 0.9136\n",
            "Epoch 41/100\n",
            "214/214 [==============================] - 4s 18ms/step - loss: 2.1772 - categorical_accuracy: 0.9016 - val_loss: 2.1661 - val_categorical_accuracy: 0.9105\n",
            "Epoch 42/100\n",
            "214/214 [==============================] - 4s 18ms/step - loss: 2.1772 - categorical_accuracy: 0.9016 - val_loss: 2.1676 - val_categorical_accuracy: 0.9105\n",
            "Epoch 43/100\n",
            "214/214 [==============================] - 4s 18ms/step - loss: 2.1880 - categorical_accuracy: 0.8903 - val_loss: 2.1736 - val_categorical_accuracy: 0.9043\n",
            "Epoch 44/100\n",
            "214/214 [==============================] - 4s 18ms/step - loss: 2.1752 - categorical_accuracy: 0.9025 - val_loss: 2.1679 - val_categorical_accuracy: 0.9105\n",
            "Epoch 45/100\n",
            "214/214 [==============================] - 4s 18ms/step - loss: 2.1684 - categorical_accuracy: 0.9091 - val_loss: 2.1648 - val_categorical_accuracy: 0.9136\n"
          ]
        }
      ],
      "source": [
        "# Train the top layer (EfficientNetB0)\n",
        "opt1 = keras.optimizers.Adam(learning_rate=0.004) #update!\n",
        "model1.compile(optimizer=opt1,\n",
        "            loss=tf.keras.losses.CategoricalCrossentropy(from_logits=True),\n",
        "            metrics=[tf.keras.metrics.CategoricalAccuracy()]\n",
        ")\n",
        "early_stop1 = tf.keras.callbacks.EarlyStopping(monitor='val_loss', \n",
        "                                               patience=10, \n",
        "                                               restore_best_weights=True #restore model weights from the epoch with the best value of the monitored quantity\n",
        ")\n",
        "\n",
        "history_efficientnetb0 = model1.fit(train_ds,\n",
        "                              batch_size=5,\n",
        "                              epochs=100,\n",
        "                              validation_data=validation_ds,\n",
        "                              validation_freq=1,\n",
        "                              callbacks=[early_stop1]\n",
        "                              )"
      ],
      "id": "Vk44Kec9rGi_"
    },
    {
      "cell_type": "code",
      "execution_count": 24,
      "metadata": {
        "colab": {
          "base_uri": "https://localhost:8080/"
        },
        "id": "63ac9966",
        "outputId": "d8f8ce2a-4c27-43c6-e490-e28b5e753778"
      },
      "outputs": [
        {
          "output_type": "stream",
          "name": "stdout",
          "text": [
            "Epoch 1/100\n",
            "214/214 [==============================] - 3s 11ms/step - loss: 2.6838 - categorical_accuracy: 0.4171 - val_loss: 2.3514 - val_categorical_accuracy: 0.7407\n",
            "Epoch 2/100\n",
            "214/214 [==============================] - 2s 10ms/step - loss: 2.4094 - categorical_accuracy: 0.6870 - val_loss: 2.2729 - val_categorical_accuracy: 0.8117\n",
            "Epoch 3/100\n",
            "214/214 [==============================] - 2s 10ms/step - loss: 2.3380 - categorical_accuracy: 0.7488 - val_loss: 2.2420 - val_categorical_accuracy: 0.8457\n",
            "Epoch 4/100\n",
            "214/214 [==============================] - 2s 10ms/step - loss: 2.3052 - categorical_accuracy: 0.7816 - val_loss: 2.2299 - val_categorical_accuracy: 0.8580\n",
            "Epoch 5/100\n",
            "214/214 [==============================] - 2s 10ms/step - loss: 2.2585 - categorical_accuracy: 0.8266 - val_loss: 2.2036 - val_categorical_accuracy: 0.8735\n",
            "Epoch 6/100\n",
            "214/214 [==============================] - 2s 10ms/step - loss: 2.2654 - categorical_accuracy: 0.8201 - val_loss: 2.2052 - val_categorical_accuracy: 0.8765\n",
            "Epoch 7/100\n",
            "214/214 [==============================] - 2s 10ms/step - loss: 2.2751 - categorical_accuracy: 0.8060 - val_loss: 2.2054 - val_categorical_accuracy: 0.8704\n",
            "Epoch 8/100\n",
            "214/214 [==============================] - 2s 11ms/step - loss: 2.2457 - categorical_accuracy: 0.8313 - val_loss: 2.2012 - val_categorical_accuracy: 0.8858\n",
            "Epoch 9/100\n",
            "214/214 [==============================] - 2s 10ms/step - loss: 2.2372 - categorical_accuracy: 0.8435 - val_loss: 2.2024 - val_categorical_accuracy: 0.8796\n",
            "Epoch 10/100\n",
            "214/214 [==============================] - 2s 10ms/step - loss: 2.2375 - categorical_accuracy: 0.8425 - val_loss: 2.1894 - val_categorical_accuracy: 0.8920\n",
            "Epoch 11/100\n",
            "214/214 [==============================] - 2s 10ms/step - loss: 2.2181 - categorical_accuracy: 0.8697 - val_loss: 2.1845 - val_categorical_accuracy: 0.8889\n",
            "Epoch 12/100\n",
            "214/214 [==============================] - 2s 10ms/step - loss: 2.2264 - categorical_accuracy: 0.8529 - val_loss: 2.1920 - val_categorical_accuracy: 0.8858\n",
            "Epoch 13/100\n",
            "214/214 [==============================] - 2s 10ms/step - loss: 2.2261 - categorical_accuracy: 0.8557 - val_loss: 2.1867 - val_categorical_accuracy: 0.8920\n",
            "Epoch 14/100\n",
            "214/214 [==============================] - 2s 10ms/step - loss: 2.2323 - categorical_accuracy: 0.8482 - val_loss: 2.1818 - val_categorical_accuracy: 0.8951\n",
            "Epoch 15/100\n",
            "214/214 [==============================] - 2s 10ms/step - loss: 2.2182 - categorical_accuracy: 0.8613 - val_loss: 2.1722 - val_categorical_accuracy: 0.9136\n",
            "Epoch 16/100\n",
            "214/214 [==============================] - 2s 10ms/step - loss: 2.2145 - categorical_accuracy: 0.8622 - val_loss: 2.1722 - val_categorical_accuracy: 0.9105\n",
            "Epoch 17/100\n",
            "214/214 [==============================] - 2s 10ms/step - loss: 2.2104 - categorical_accuracy: 0.8688 - val_loss: 2.1960 - val_categorical_accuracy: 0.8765\n",
            "Epoch 18/100\n",
            "214/214 [==============================] - 2s 10ms/step - loss: 2.2042 - categorical_accuracy: 0.8772 - val_loss: 2.1813 - val_categorical_accuracy: 0.9012\n",
            "Epoch 19/100\n",
            "214/214 [==============================] - 2s 10ms/step - loss: 2.2178 - categorical_accuracy: 0.8613 - val_loss: 2.1793 - val_categorical_accuracy: 0.8981\n",
            "Epoch 20/100\n",
            "214/214 [==============================] - 2s 10ms/step - loss: 2.2077 - categorical_accuracy: 0.8725 - val_loss: 2.1778 - val_categorical_accuracy: 0.9012\n",
            "Epoch 21/100\n",
            "214/214 [==============================] - 2s 10ms/step - loss: 2.2100 - categorical_accuracy: 0.8679 - val_loss: 2.1727 - val_categorical_accuracy: 0.9136\n",
            "Epoch 22/100\n",
            "214/214 [==============================] - 2s 11ms/step - loss: 2.2117 - categorical_accuracy: 0.8679 - val_loss: 2.1641 - val_categorical_accuracy: 0.9136\n",
            "Epoch 23/100\n",
            "214/214 [==============================] - 2s 10ms/step - loss: 2.2075 - categorical_accuracy: 0.8744 - val_loss: 2.1783 - val_categorical_accuracy: 0.8981\n",
            "Epoch 24/100\n",
            "214/214 [==============================] - 2s 10ms/step - loss: 2.1975 - categorical_accuracy: 0.8838 - val_loss: 2.1490 - val_categorical_accuracy: 0.9321\n",
            "Epoch 25/100\n",
            "214/214 [==============================] - 2s 10ms/step - loss: 2.1917 - categorical_accuracy: 0.8885 - val_loss: 2.1520 - val_categorical_accuracy: 0.9259\n",
            "Epoch 26/100\n",
            "214/214 [==============================] - 2s 10ms/step - loss: 2.2043 - categorical_accuracy: 0.8735 - val_loss: 2.1552 - val_categorical_accuracy: 0.9228\n",
            "Epoch 27/100\n",
            "214/214 [==============================] - 2s 10ms/step - loss: 2.2150 - categorical_accuracy: 0.8622 - val_loss: 2.1841 - val_categorical_accuracy: 0.8858\n",
            "Epoch 28/100\n",
            "214/214 [==============================] - 2s 10ms/step - loss: 2.2095 - categorical_accuracy: 0.8679 - val_loss: 2.1507 - val_categorical_accuracy: 0.9321\n",
            "Epoch 29/100\n",
            "214/214 [==============================] - 2s 10ms/step - loss: 2.2098 - categorical_accuracy: 0.8679 - val_loss: 2.1700 - val_categorical_accuracy: 0.9105\n",
            "Epoch 30/100\n",
            "214/214 [==============================] - 2s 10ms/step - loss: 2.1964 - categorical_accuracy: 0.8838 - val_loss: 2.1573 - val_categorical_accuracy: 0.9198\n",
            "Epoch 31/100\n",
            "214/214 [==============================] - 2s 10ms/step - loss: 2.2171 - categorical_accuracy: 0.8613 - val_loss: 2.1632 - val_categorical_accuracy: 0.9136\n",
            "Epoch 32/100\n",
            "214/214 [==============================] - 2s 11ms/step - loss: 2.2039 - categorical_accuracy: 0.8754 - val_loss: 2.1475 - val_categorical_accuracy: 0.9290\n",
            "Epoch 33/100\n",
            "214/214 [==============================] - 2s 10ms/step - loss: 2.1967 - categorical_accuracy: 0.8791 - val_loss: 2.1686 - val_categorical_accuracy: 0.9105\n",
            "Epoch 34/100\n",
            "214/214 [==============================] - 2s 10ms/step - loss: 2.2076 - categorical_accuracy: 0.8716 - val_loss: 2.1599 - val_categorical_accuracy: 0.9198\n",
            "Epoch 35/100\n",
            "214/214 [==============================] - 2s 10ms/step - loss: 2.1967 - categorical_accuracy: 0.8847 - val_loss: 2.1581 - val_categorical_accuracy: 0.9259\n",
            "Epoch 36/100\n",
            "214/214 [==============================] - 2s 10ms/step - loss: 2.1928 - categorical_accuracy: 0.8828 - val_loss: 2.1609 - val_categorical_accuracy: 0.9136\n",
            "Epoch 37/100\n",
            "214/214 [==============================] - 2s 10ms/step - loss: 2.1956 - categorical_accuracy: 0.8847 - val_loss: 2.1651 - val_categorical_accuracy: 0.9136\n",
            "Epoch 38/100\n",
            "214/214 [==============================] - 2s 10ms/step - loss: 2.1989 - categorical_accuracy: 0.8800 - val_loss: 2.1691 - val_categorical_accuracy: 0.9074\n",
            "Epoch 39/100\n",
            "214/214 [==============================] - 2s 10ms/step - loss: 2.2068 - categorical_accuracy: 0.8725 - val_loss: 2.1680 - val_categorical_accuracy: 0.9074\n",
            "Epoch 40/100\n",
            "214/214 [==============================] - 2s 10ms/step - loss: 2.1909 - categorical_accuracy: 0.8857 - val_loss: 2.1551 - val_categorical_accuracy: 0.9198\n",
            "Epoch 41/100\n",
            "214/214 [==============================] - 2s 10ms/step - loss: 2.2017 - categorical_accuracy: 0.8782 - val_loss: 2.1595 - val_categorical_accuracy: 0.9198\n",
            "Epoch 42/100\n",
            "214/214 [==============================] - 2s 10ms/step - loss: 2.1900 - categorical_accuracy: 0.8894 - val_loss: 2.1532 - val_categorical_accuracy: 0.9290\n"
          ]
        }
      ],
      "source": [
        "# Train the top layer (VGG16)\n",
        "opt2 = keras.optimizers.Adam(learning_rate=0.005)\n",
        "model2.compile(optimizer=opt2,\n",
        "            loss=tf.keras.losses.CategoricalCrossentropy(from_logits=True),\n",
        "            metrics=[tf.keras.metrics.CategoricalAccuracy()]\n",
        ")\n",
        "early_stop2 = tf.keras.callbacks.EarlyStopping(monitor='val_loss', \n",
        "                                               patience=10, \n",
        "                                               restore_best_weights=True\n",
        "                                               )\n",
        "history_vgg16 = model2.fit(train_ds,\n",
        "                              batch_size=5,\n",
        "                              epochs=100,\n",
        "                              validation_data=validation_ds,\n",
        "                              validation_freq=1,\n",
        "                              callbacks=[early_stop2]\n",
        "                              )"
      ],
      "id": "63ac9966"
    },
    {
      "cell_type": "code",
      "execution_count": 44,
      "metadata": {
        "id": "joiZinplrPuD",
        "colab": {
          "base_uri": "https://localhost:8080/",
          "height": 444
        },
        "outputId": "88601431-d43f-49db-d892-d43876416150"
      },
      "outputs": [
        {
          "output_type": "display_data",
          "data": {
            "text/plain": [
              "<Figure size 864x504 with 2 Axes>"
            ],
            "image/png": "[encoded data removed]"
          },
          "metadata": {
            "needs_background": "light"
          }
        }
      ],
      "source": [
        "# Plot the training and validation errors vs epochs\n",
        "acc_efficientnetb0 = history_efficientnetb0.history['categorical_accuracy']\n",
        "val_acc_efficientnetb0 = history_efficientnetb0.history['val_categorical_accuracy']\n",
        "error_efficientnetb0 = []\n",
        "val_error_efficientnetb0 = []\n",
        "for i in range(len(acc_efficientnetb0)):\n",
        "\terror_efficientnetb0.append(1 - acc_efficientnetb0[i])\n",
        "for i in range(len(val_acc_efficientnetb0)):\n",
        "\tval_error_efficientnetb0.append(1 - val_acc_efficientnetb0[i])\n",
        "epochs_efficientnetb0 = len(history_efficientnetb0.history['categorical_accuracy'])\n",
        "epochs_range1 = range(epochs_efficientnetb0)\n",
        "\n",
        "acc_vgg16 = history_vgg16.history['categorical_accuracy']\n",
        "val_acc_vgg16 = history_vgg16.history['val_categorical_accuracy']\n",
        "error_vgg16 = []\n",
        "val_error_vgg16 = []\n",
        "for i in range(len(acc_vgg16)):\n",
        "\terror_vgg16.append(1 - acc_vgg16[i])\n",
        "for i in range(len(val_acc_vgg16)):\n",
        "\tval_error_vgg16.append(1 - val_acc_vgg16[i])\n",
        "epochs_vgg16 = len(history_vgg16.history['categorical_accuracy'])\n",
        "epochs_range2 = range(epochs_vgg16)\n",
        "\n",
        "plt.figure(figsize=(12, 7))\n",
        "plt.subplot(1, 2, 1)\n",
        "plt.plot(epochs_range1, error_efficientnetb0, label='Training Error')\n",
        "plt.plot(epochs_range1, val_error_efficientnetb0, label='Validation Error')\n",
        "plt.legend(loc='upper right')\n",
        "plt.title('Training and Validation Error (EfficientNetB0)')\n",
        "\n",
        "plt.subplot(1, 2, 2)\n",
        "plt.plot(epochs_range2, error_vgg16, label='Training Error')\n",
        "plt.plot(epochs_range2, val_error_vgg16, label='Validation Error')\n",
        "plt.legend(loc='upper right')\n",
        "plt.title('Training and Validation Error (VGG16)')\n",
        "plt.show()"
      ],
      "id": "joiZinplrPuD"
    },
    {
      "cell_type": "markdown",
      "metadata": {
        "id": "NGp0dvM5rMAi"
      },
      "source": [
        "### v. Report Precision, Recall, and F1 score for your model. Remember that this is a multi-class classification problem"
      ],
      "id": "NGp0dvM5rMAi"
    },
    {
      "cell_type": "code",
      "execution_count": 45,
      "metadata": {
        "id": "VNdIVYlfmv1d",
        "colab": {
          "base_uri": "https://localhost:8080/"
        },
        "outputId": "9878721b-d77d-4df1-dc0d-3d3f17f78314"
      },
      "outputs": [
        {
          "output_type": "stream",
          "name": "stdout",
          "text": [
            "64/64 [==============================] - 2s 15ms/step\n",
            "              precision    recall  f1-score   support\n",
            "\n",
            "           0       1.00      1.00      1.00        10\n",
            "           1       1.00      0.93      0.97        15\n",
            "           2       0.95      1.00      0.97        18\n",
            "           3       1.00      1.00      1.00        18\n",
            "           4       0.61      0.94      0.74        18\n",
            "           5       0.94      1.00      0.97        17\n",
            "           6       0.88      1.00      0.94        15\n",
            "           7       0.81      0.87      0.84        15\n",
            "           8       1.00      1.00      1.00        16\n",
            "           9       0.00      0.00      0.00        14\n",
            "          10       1.00      1.00      1.00        18\n",
            "          11       1.00      1.00      1.00        13\n",
            "          12       1.00      1.00      1.00        15\n",
            "          13       0.88      1.00      0.94        15\n",
            "          14       1.00      0.75      0.86        16\n",
            "          15       0.95      1.00      0.97        18\n",
            "          16       1.00      1.00      1.00        17\n",
            "          17       0.89      0.94      0.92        18\n",
            "          18       1.00      1.00      1.00        15\n",
            "          19       1.00      1.00      1.00        17\n",
            "\n",
            "   micro avg       0.93      0.93      0.93       318\n",
            "   macro avg       0.90      0.92      0.91       318\n",
            "weighted avg       0.90      0.93      0.91       318\n",
            " samples avg       0.93      0.93      0.93       318\n",
            "\n"
          ]
        },
        {
          "output_type": "stream",
          "name": "stderr",
          "text": [
            "/usr/local/lib/python3.8/dist-packages/sklearn/metrics/_classification.py:1318: UndefinedMetricWarning: Precision and F-score are ill-defined and being set to 0.0 in labels with no predicted samples. Use `zero_division` parameter to control this behavior.\n",
            "  _warn_prf(average, modifier, msg_start, len(result))\n"
          ]
        }
      ],
      "source": [
        "# EfficientNetB0\n",
        "# Test\n",
        "pred_efficientnetb0 = model1.predict(test_ds)\n",
        "pred_label_efficientnetb0 = tf.keras.utils.to_categorical(np.argmax(pred_efficientnetb0, axis=1))\n",
        "# Get true label\n",
        "true_label_efficientnetb0 = np.concatenate([y for x, y in test_ds], axis=0)\n",
        "# Classification report\n",
        "print(classification_report(true_label_efficientnetb0, pred_label_efficientnetb0))"
      ],
      "id": "VNdIVYlfmv1d"
    },
    {
      "cell_type": "code",
      "execution_count": 46,
      "metadata": {
        "id": "nIoNv4_b6L-4",
        "colab": {
          "base_uri": "https://localhost:8080/"
        },
        "outputId": "babd0af4-3f59-42ef-fe85-160a3384337d"
      },
      "outputs": [
        {
          "output_type": "stream",
          "name": "stdout",
          "text": [
            "64/64 [==============================] - 1s 10ms/step\n",
            "              precision    recall  f1-score   support\n",
            "\n",
            "           0       1.00      1.00      1.00        10\n",
            "           1       0.87      0.87      0.87        15\n",
            "           2       1.00      1.00      1.00        18\n",
            "           3       0.90      1.00      0.95        18\n",
            "           4       0.84      0.89      0.86        18\n",
            "           5       0.94      0.88      0.91        17\n",
            "           6       0.93      0.93      0.93        15\n",
            "           7       0.92      0.80      0.86        15\n",
            "           8       1.00      1.00      1.00        16\n",
            "           9       0.81      0.93      0.87        14\n",
            "          10       0.95      1.00      0.97        18\n",
            "          11       1.00      1.00      1.00        13\n",
            "          12       1.00      1.00      1.00        15\n",
            "          13       1.00      0.93      0.97        15\n",
            "          14       1.00      0.81      0.90        16\n",
            "          15       0.95      1.00      0.97        18\n",
            "          16       1.00      1.00      1.00        17\n",
            "          17       0.94      0.89      0.91        18\n",
            "          18       0.88      1.00      0.94        15\n",
            "          19       1.00      0.94      0.97        17\n",
            "\n",
            "   micro avg       0.94      0.94      0.94       318\n",
            "   macro avg       0.95      0.94      0.94       318\n",
            "weighted avg       0.95      0.94      0.94       318\n",
            " samples avg       0.94      0.94      0.94       318\n",
            "\n"
          ]
        }
      ],
      "source": [
        "# VGG16\n",
        "# Test\n",
        "pred_vgg16 = model2.predict(test_ds)\n",
        "pred_label_vgg16 = tf.keras.utils.to_categorical(np.argmax(pred_vgg16, axis=1))\n",
        "# Get true label\n",
        "true_label_vgg16 = np.concatenate([y for x, y in test_ds], axis=0)\n",
        "# Classification report\n",
        "print(classification_report(true_label_vgg16, pred_label_vgg16))"
      ],
      "id": "nIoNv4_b6L-4"
    }
  ],
  "metadata": {
    "colab": {
      "provenance": [],
      "machine_shape": "hm"
    },
    "kernelspec": {
      "display_name": "Python 3 (ipykernel)",
      "language": "python",
      "name": "python3"
    },
    "language_info": {
      "codemirror_mode": {
        "name": "ipython",
        "version": 3
      },
      "file_extension": ".py",
      "mimetype": "text/x-python",
      "name": "python",
      "nbconvert_exporter": "python",
      "pygments_lexer": "ipython3",
      "version": "3.9.12"
    },
    "vscode": {
      "interpreter": {
        "hash": "b0fa6594d8f4cbf19f97940f81e996739fb7646882a419484c72d19e05852a7e"
      }
    },
    "accelerator": "GPU",
    "gpuClass": "premium"
  },
  "nbformat": 4,
  "nbformat_minor": 5
}