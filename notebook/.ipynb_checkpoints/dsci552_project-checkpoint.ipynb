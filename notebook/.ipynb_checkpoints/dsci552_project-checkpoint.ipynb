{
 "cells": [
  {
   "cell_type": "markdown",
   "id": "ea6fab73",
   "metadata": {},
   "source": [
    "##### Name: Huiqi Wang\n",
    "##### Github Username: wang2bbq\n",
    "##### USC ID: 6613859213"
   ]
  },
  {
   "cell_type": "markdown",
   "id": "879825b0",
   "metadata": {},
   "source": [
    "# 1. Transfer Learning for Image Classification"
   ]
  },
  {
   "cell_type": "markdown",
   "id": "2ba2e6a0",
   "metadata": {},
   "source": [
    "## a.b. Data Exploration and Pre-processing"
   ]
  },
  {
   "cell_type": "markdown",
   "id": "8ddb6f00",
   "metadata": {},
   "source": [
    "### i. Encode your classes using one-hot encoding and Classes.xlsx"
   ]
  },
  {
   "cell_type": "code",
   "execution_count": null,
   "id": "72270799",
   "metadata": {},
   "outputs": [],
   "source": []
  },
  {
   "cell_type": "markdown",
   "id": "6789a351",
   "metadata": {},
   "source": [
    "### ii. Randomly select training set, validation set, test set"
   ]
  },
  {
   "cell_type": "code",
   "execution_count": 1,
   "id": "00ab497e",
   "metadata": {},
   "outputs": [],
   "source": [
    "import os\n",
    "import shutil\n",
    "import math\n",
    "from sklearn.model_selection import train_test_split\n",
    "path = '../data/images'\n",
    "folders = os.listdir(path)\n",
    "for i in range(20):\n",
    "    folder_path = '../data/images/' + folders[i]\n",
    "    file_list_per_folder = os.listdir(folder_path)\n",
    "    n = len(file_list_per_folder)\n",
    "    n_train = math.ceil(0.7*n)\n",
    "    n_vali = math.ceil(0.15*n)\n",
    "    n_test = n - n_train - n_vali\n",
    "    train_set, remain_set = train_test_split(file_list_per_folder, train_size=n_train, random_state=1)\n",
    "    vali_set, test_set = train_test_split(remain_set, train_size=n_vali, random_state=1)\n",
    "    for file in train_set:\n",
    "        old_path = folder_path + '/' + file\n",
    "        new_path_train = '../data/training/'+file\n",
    "        #new_path_vali = '../data/validation/'+file\n",
    "        #new_path_test = '../data/test/'+file\n",
    "        # Copy src to dst. (cp src dst)\n",
    "        shutil.copy(old_path, new_path_train)\n",
    "    for file in vali_set:\n",
    "        old_path = folder_path + '/' + file\n",
    "        new_path_vali = '../data/validation/'+file\n",
    "        shutil.copy(old_path, new_path_vali)\n",
    "    for file in test_set:\n",
    "        old_path = folder_path + '/' + file\n",
    "        new_path_test = '../data/test/'+file\n",
    "        shutil.copy(old_path, new_path_test)\n"
   ]
  },
  {
   "cell_type": "markdown",
   "id": "6320e8d8",
   "metadata": {},
   "source": [
    "### iii. Zero-pad or resize the images in your dataset"
   ]
  },
  {
   "cell_type": "code",
   "execution_count": null,
   "id": "41dac5e4",
   "metadata": {},
   "outputs": [],
   "source": [
    "import numpy as np\n",
    "import tensorflow as tf\n",
    "from tensorflow import keras"
   ]
  },
  {
   "cell_type": "code",
   "execution_count": 2,
   "id": "d8e155c4",
   "metadata": {},
   "outputs": [
    {
     "data": {
      "text/plain": [
       "'../data/images'"
      ]
     },
     "execution_count": 2,
     "metadata": {},
     "output_type": "execute_result"
    }
   ],
   "source": [
    "# OpenCV\n"
   ]
  },
  {
   "cell_type": "code",
   "execution_count": null,
   "id": "63ac9966",
   "metadata": {},
   "outputs": [],
   "source": [
    "\n",
    "#separate_folders = ['005.Crested_Auklet','013.Bobolink','015.Lazuli_Bunting','023.Brandt_Cormorant','040.Olive_sided_Flycatcher','041.Scissor_tailed_Flycatcher','067.Anna_Hummingbird','072.Pomarine_Jaeger']\n",
    "\n",
    "# Copy src to dst. (cp src dst)\n",
    "#shutil.copy(src, dst)"
   ]
  }
 ],
 "metadata": {
  "kernelspec": {
   "display_name": "Python 3 (ipykernel)",
   "language": "python",
   "name": "python3"
  },
  "language_info": {
   "codemirror_mode": {
    "name": "ipython",
    "version": 3
   },
   "file_extension": ".py",
   "mimetype": "text/x-python",
   "name": "python",
   "nbconvert_exporter": "python",
   "pygments_lexer": "ipython3",
   "version": "3.9.12"
  },
  "vscode": {
   "interpreter": {
    "hash": "b0fa6594d8f4cbf19f97940f81e996739fb7646882a419484c72d19e05852a7e"
   }
  }
 },
 "nbformat": 4,
 "nbformat_minor": 5
}
